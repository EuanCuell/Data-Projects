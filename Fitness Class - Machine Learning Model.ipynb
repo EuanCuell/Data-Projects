{
 "cells": [
  {
   "cell_type": "markdown",
   "id": "451d1674",
   "metadata": {},
   "source": [
    "### This dataset contains information on the bookings of individuals in a fitness club in Canada\n",
    "#### After necessary data cleaning/transformation, and exploratory data analysis, a machine learning model will be created to predict how particular feature variables can be used to predict booking attendance"
   ]
  },
  {
   "cell_type": "code",
   "execution_count": 107,
   "id": "fcbb88b5",
   "metadata": {},
   "outputs": [
    {
     "data": {
      "text/html": [
       "<div>\n",
       "<style scoped>\n",
       "    .dataframe tbody tr th:only-of-type {\n",
       "        vertical-align: middle;\n",
       "    }\n",
       "\n",
       "    .dataframe tbody tr th {\n",
       "        vertical-align: top;\n",
       "    }\n",
       "\n",
       "    .dataframe thead th {\n",
       "        text-align: right;\n",
       "    }\n",
       "</style>\n",
       "<table border=\"1\" class=\"dataframe\">\n",
       "  <thead>\n",
       "    <tr style=\"text-align: right;\">\n",
       "      <th></th>\n",
       "      <th>booking_id</th>\n",
       "      <th>months_as_member</th>\n",
       "      <th>weight</th>\n",
       "      <th>days_before</th>\n",
       "      <th>day_of_week</th>\n",
       "      <th>time</th>\n",
       "      <th>category</th>\n",
       "      <th>attended</th>\n",
       "    </tr>\n",
       "  </thead>\n",
       "  <tbody>\n",
       "    <tr>\n",
       "      <th>0</th>\n",
       "      <td>1</td>\n",
       "      <td>17</td>\n",
       "      <td>79.56</td>\n",
       "      <td>8</td>\n",
       "      <td>Wed</td>\n",
       "      <td>PM</td>\n",
       "      <td>Strength</td>\n",
       "      <td>0</td>\n",
       "    </tr>\n",
       "    <tr>\n",
       "      <th>1</th>\n",
       "      <td>2</td>\n",
       "      <td>10</td>\n",
       "      <td>79.01</td>\n",
       "      <td>2</td>\n",
       "      <td>Mon</td>\n",
       "      <td>AM</td>\n",
       "      <td>HIIT</td>\n",
       "      <td>0</td>\n",
       "    </tr>\n",
       "    <tr>\n",
       "      <th>2</th>\n",
       "      <td>3</td>\n",
       "      <td>16</td>\n",
       "      <td>74.53</td>\n",
       "      <td>14</td>\n",
       "      <td>Sun</td>\n",
       "      <td>AM</td>\n",
       "      <td>Strength</td>\n",
       "      <td>0</td>\n",
       "    </tr>\n",
       "    <tr>\n",
       "      <th>3</th>\n",
       "      <td>4</td>\n",
       "      <td>5</td>\n",
       "      <td>86.12</td>\n",
       "      <td>10</td>\n",
       "      <td>Fri</td>\n",
       "      <td>AM</td>\n",
       "      <td>Cycling</td>\n",
       "      <td>0</td>\n",
       "    </tr>\n",
       "    <tr>\n",
       "      <th>4</th>\n",
       "      <td>5</td>\n",
       "      <td>15</td>\n",
       "      <td>69.29</td>\n",
       "      <td>8</td>\n",
       "      <td>Thu</td>\n",
       "      <td>AM</td>\n",
       "      <td>HIIT</td>\n",
       "      <td>0</td>\n",
       "    </tr>\n",
       "  </tbody>\n",
       "</table>\n",
       "</div>"
      ],
      "text/plain": [
       "   booking_id  months_as_member  weight days_before day_of_week time  \\\n",
       "0           1                17   79.56           8         Wed   PM   \n",
       "1           2                10   79.01           2         Mon   AM   \n",
       "2           3                16   74.53          14         Sun   AM   \n",
       "3           4                 5   86.12          10         Fri   AM   \n",
       "4           5                15   69.29           8         Thu   AM   \n",
       "\n",
       "   category  attended  \n",
       "0  Strength         0  \n",
       "1      HIIT         0  \n",
       "2  Strength         0  \n",
       "3   Cycling         0  \n",
       "4      HIIT         0  "
      ]
     },
     "execution_count": 107,
     "metadata": {},
     "output_type": "execute_result"
    }
   ],
   "source": [
    "# Dataset: Fitness Club Dataset by DEE DEE\n",
    "import pandas as pd\n",
    "import warnings\n",
    "import numpy as np\n",
    "import matplotlib.pyplot as plt\n",
    "import seaborn as sns\n",
    "import datetime\n",
    "warnings.filterwarnings('ignore')\n",
    "\n",
    "data = pd.read_csv(\"C:/Users/pc/OneDrive/Documents/Jupyter Projects/fitness_class_2212.csv\")\n",
    "pd.set_option('display.max_columns', None)\n",
    "data.head()"
   ]
  },
  {
   "cell_type": "markdown",
   "id": "7b7a3b46",
   "metadata": {},
   "source": [
    "#### Each row represents an individuals booking and their details"
   ]
  },
  {
   "cell_type": "code",
   "execution_count": 108,
   "id": "e06d8e9c",
   "metadata": {},
   "outputs": [
    {
     "data": {
      "text/html": [
       "<div>\n",
       "<style scoped>\n",
       "    .dataframe tbody tr th:only-of-type {\n",
       "        vertical-align: middle;\n",
       "    }\n",
       "\n",
       "    .dataframe tbody tr th {\n",
       "        vertical-align: top;\n",
       "    }\n",
       "\n",
       "    .dataframe thead th {\n",
       "        text-align: right;\n",
       "    }\n",
       "</style>\n",
       "<table border=\"1\" class=\"dataframe\">\n",
       "  <thead>\n",
       "    <tr style=\"text-align: right;\">\n",
       "      <th></th>\n",
       "      <th>Datatype</th>\n",
       "      <th>Not null values</th>\n",
       "      <th>Null values</th>\n",
       "      <th>Percentage of Null values</th>\n",
       "      <th>Unique count</th>\n",
       "    </tr>\n",
       "  </thead>\n",
       "  <tbody>\n",
       "    <tr>\n",
       "      <th>booking_id</th>\n",
       "      <td>int64</td>\n",
       "      <td>1500</td>\n",
       "      <td>0</td>\n",
       "      <td>0.000000</td>\n",
       "      <td>1500</td>\n",
       "    </tr>\n",
       "    <tr>\n",
       "      <th>months_as_member</th>\n",
       "      <td>int64</td>\n",
       "      <td>1500</td>\n",
       "      <td>0</td>\n",
       "      <td>0.000000</td>\n",
       "      <td>72</td>\n",
       "    </tr>\n",
       "    <tr>\n",
       "      <th>weight</th>\n",
       "      <td>float64</td>\n",
       "      <td>1480</td>\n",
       "      <td>20</td>\n",
       "      <td>1.333333</td>\n",
       "      <td>1241</td>\n",
       "    </tr>\n",
       "    <tr>\n",
       "      <th>days_before</th>\n",
       "      <td>object</td>\n",
       "      <td>1500</td>\n",
       "      <td>0</td>\n",
       "      <td>0.000000</td>\n",
       "      <td>31</td>\n",
       "    </tr>\n",
       "    <tr>\n",
       "      <th>day_of_week</th>\n",
       "      <td>object</td>\n",
       "      <td>1500</td>\n",
       "      <td>0</td>\n",
       "      <td>0.000000</td>\n",
       "      <td>10</td>\n",
       "    </tr>\n",
       "    <tr>\n",
       "      <th>time</th>\n",
       "      <td>object</td>\n",
       "      <td>1500</td>\n",
       "      <td>0</td>\n",
       "      <td>0.000000</td>\n",
       "      <td>2</td>\n",
       "    </tr>\n",
       "    <tr>\n",
       "      <th>category</th>\n",
       "      <td>object</td>\n",
       "      <td>1500</td>\n",
       "      <td>0</td>\n",
       "      <td>0.000000</td>\n",
       "      <td>6</td>\n",
       "    </tr>\n",
       "    <tr>\n",
       "      <th>attended</th>\n",
       "      <td>int64</td>\n",
       "      <td>1500</td>\n",
       "      <td>0</td>\n",
       "      <td>0.000000</td>\n",
       "      <td>2</td>\n",
       "    </tr>\n",
       "  </tbody>\n",
       "</table>\n",
       "</div>"
      ],
      "text/plain": [
       "                 Datatype  Not null values  Null values  \\\n",
       "booking_id          int64             1500            0   \n",
       "months_as_member    int64             1500            0   \n",
       "weight            float64             1480           20   \n",
       "days_before        object             1500            0   \n",
       "day_of_week        object             1500            0   \n",
       "time               object             1500            0   \n",
       "category           object             1500            0   \n",
       "attended            int64             1500            0   \n",
       "\n",
       "                  Percentage of Null values  Unique count  \n",
       "booking_id                         0.000000          1500  \n",
       "months_as_member                   0.000000            72  \n",
       "weight                             1.333333          1241  \n",
       "days_before                        0.000000            31  \n",
       "day_of_week                        0.000000            10  \n",
       "time                               0.000000             2  \n",
       "category                           0.000000             6  \n",
       "attended                           0.000000             2  "
      ]
     },
     "execution_count": 108,
     "metadata": {},
     "output_type": "execute_result"
    }
   ],
   "source": [
    "def dataframe_info(df):\n",
    "    temp = pd.DataFrame(index=df.columns)\n",
    "    temp[\"Datatype\"] = df.dtypes\n",
    "    temp[\"Not null values\"] = df.count()\n",
    "    temp[\"Null values\"] = df.isnull().sum()\n",
    "    temp[\"Percentage of Null values\"] = (df.isnull().mean())*100\n",
    "    temp[\"Unique count\"] = df.nunique()\n",
    "    return temp\n",
    "dataframe_info(data)"
   ]
  },
  {
   "cell_type": "markdown",
   "id": "38ca24a0",
   "metadata": {},
   "source": [
    "# 1. Cleaning and Transformation"
   ]
  },
  {
   "cell_type": "markdown",
   "id": "031997d2",
   "metadata": {},
   "source": [
    "### Weight\n",
    "#### The weight column has 20 missing values, we will fill those missing values with the average weight of the dataset"
   ]
  },
  {
   "cell_type": "code",
   "execution_count": 109,
   "id": "cbccf1cd",
   "metadata": {},
   "outputs": [
    {
     "name": "stdout",
     "output_type": "stream",
     "text": [
      "0\n"
     ]
    }
   ],
   "source": [
    "data['weight'] = data['weight'].fillna(data['weight'].mean())\n",
    "print(data['weight'].isna().sum())"
   ]
  },
  {
   "cell_type": "markdown",
   "id": "d12d0d89",
   "metadata": {},
   "source": [
    "### Days before\n",
    "#### The days_before column contains a mix of integers and strings, we'll convert the column to exclusively integers"
   ]
  },
  {
   "cell_type": "code",
   "execution_count": 110,
   "id": "30a04f74",
   "metadata": {},
   "outputs": [
    {
     "name": "stdout",
     "output_type": "stream",
     "text": [
      "['8' '2' '14' '10' '6' '4' '9' '12' '5' '3' '7' '13' '12 days' '20' '1'\n",
      " '15' '6 days' '11' '13 days' '3 days' '16' '1 days' '7 days' '8 days'\n",
      " '10 days' '14 days' '17' '5 days' '2 days' '4 days' '29']\n"
     ]
    }
   ],
   "source": [
    "print(data['days_before'].unique())"
   ]
  },
  {
   "cell_type": "code",
   "execution_count": 111,
   "id": "2c8cb85f",
   "metadata": {},
   "outputs": [
    {
     "name": "stdout",
     "output_type": "stream",
     "text": [
      "[ 8  2 14 10  6  4  9 12  5  3  7 13 20  1 15 11 16 17 29]\n",
      "int64\n"
     ]
    }
   ],
   "source": [
    "data['days_before'] = data['days_before'].str.replace(' days', '')\n",
    "data['days_before'] = data['days_before'].astype('int64')\n",
    "print(data['days_before'].unique())\n",
    "print(data['days_before'].dtype)"
   ]
  },
  {
   "cell_type": "markdown",
   "id": "f127e3c8",
   "metadata": {},
   "source": [
    "### Day of the week\n",
    "#### The values in the day_of_week column are all in different formats, we'll convert them to the same format"
   ]
  },
  {
   "cell_type": "code",
   "execution_count": 112,
   "id": "62c85c54",
   "metadata": {},
   "outputs": [
    {
     "name": "stdout",
     "output_type": "stream",
     "text": [
      "['Wed' 'Mon' 'Sun' 'Fri' 'Thu' 'Wednesday' 'Fri.' 'Tue' 'Sat' 'Monday']\n"
     ]
    }
   ],
   "source": [
    "print(data['day_of_week'].unique())"
   ]
  },
  {
   "cell_type": "code",
   "execution_count": 113,
   "id": "8696931e",
   "metadata": {},
   "outputs": [
    {
     "name": "stdout",
     "output_type": "stream",
     "text": [
      "['Wed' 'Mon' 'Sun' 'Fri' 'Thu' 'Tue' 'Sat']\n",
      "['Wed', 'Mon', 'Sun', 'Fri', 'Thu', 'Tue', 'Sat']\n",
      "Categories (7, object): ['Mon' < 'Tue' < 'Wed' < 'Thu' < 'Fri' < 'Sat' < 'Sun']\n"
     ]
    }
   ],
   "source": [
    "data['day_of_week'] = data['day_of_week'].str.replace('nesday', '')\n",
    "data['day_of_week'] = data['day_of_week'].str.replace('day', '')\n",
    "data['day_of_week'] = data['day_of_week'].str.replace('.', '')\n",
    "\n",
    "print(data['day_of_week'].unique())\n",
    "\n",
    "data['day_of_week'] = data['day_of_week'].astype('category')\n",
    "data['day_of_week'] = data['day_of_week'].cat.set_categories(new_categories = ['Mon', 'Tue', 'Wed', 'Thu', 'Fri', 'Sat', 'Sun'], ordered=True)\n",
    "\n",
    "print(data['day_of_week'].unique())"
   ]
  },
  {
   "cell_type": "markdown",
   "id": "8fea5371",
   "metadata": {},
   "source": [
    "### Category\n",
    "#### The category column has an unusual entry, we will replace it with unknown"
   ]
  },
  {
   "cell_type": "code",
   "execution_count": 114,
   "id": "6ac25e88",
   "metadata": {},
   "outputs": [
    {
     "name": "stdout",
     "output_type": "stream",
     "text": [
      "['Strength' 'HIIT' 'Cycling' 'Yoga' '-' 'Aqua']\n"
     ]
    }
   ],
   "source": [
    "print(data['category'].unique())"
   ]
  },
  {
   "cell_type": "code",
   "execution_count": 115,
   "id": "61d94452",
   "metadata": {},
   "outputs": [
    {
     "name": "stdout",
     "output_type": "stream",
     "text": [
      "['Strength' 'HIIT' 'Cycling' 'Yoga' 'Unknown' 'Aqua']\n"
     ]
    }
   ],
   "source": [
    "data['category'] = data['category'].str.replace('-', 'Unknown')\n",
    "print(data['category'].unique())"
   ]
  },
  {
   "cell_type": "markdown",
   "id": "168bb07d",
   "metadata": {},
   "source": [
    "# 2. Exploratory Data Analysis"
   ]
  },
  {
   "cell_type": "markdown",
   "id": "609032db",
   "metadata": {},
   "source": [
    "## 2.1 Visualize attendance of bookings made"
   ]
  },
  {
   "cell_type": "code",
   "execution_count": 116,
   "id": "f8216277",
   "metadata": {},
   "outputs": [
    {
     "data": {
      "image/png": "[encoded data removed]",
      "text/plain": [
       "<Figure size 640x480 with 1 Axes>"
      ]
     },
     "metadata": {},
     "output_type": "display_data"
    }
   ],
   "source": [
    "sns.set_style('darkgrid')\n",
    "sns.countplot(x='attended', data=data)\n",
    "plt.xlabel('Attended')\n",
    "plt.ylabel('Count')\n",
    "plt.title('How many individuals that made a booking attended the class?')\n",
    "plt.show()"
   ]
  },
  {
   "cell_type": "markdown",
   "id": "12672317",
   "metadata": {},
   "source": [
    "#### The majority of individuals that made a booking did not attend the class"
   ]
  },
  {
   "cell_type": "markdown",
   "id": "2782688d",
   "metadata": {},
   "source": [
    "## 2.2 Visualize the distribution of months as member"
   ]
  },
  {
   "cell_type": "code",
   "execution_count": 117,
   "id": "b0056c3e",
   "metadata": {},
   "outputs": [
    {
     "data": {
      "image/png": "[encoded data removed]",
      "text/plain": [
       "<Figure size 640x480 with 1 Axes>"
      ]
     },
     "metadata": {},
     "output_type": "display_data"
    }
   ],
   "source": [
    "sns.histplot(x='months_as_member', data=data)\n",
    "plt.title('Distribution of Months as Member')\n",
    "plt.xlabel('Months as Member')\n",
    "plt.show()"
   ]
  },
  {
   "cell_type": "markdown",
   "id": "21b92afd",
   "metadata": {},
   "source": [
    "#### The histogram of months as member appears to have outliers above 80 months heavily skewing the data and making it difficutl to interpret the distribution"
   ]
  },
  {
   "cell_type": "code",
   "execution_count": 118,
   "id": "0dadfb6d",
   "metadata": {},
   "outputs": [
    {
     "data": {
      "image/png": "[encoded data removed]",
      "text/plain": [
       "<Figure size 640x480 with 1 Axes>"
      ]
     },
     "metadata": {},
     "output_type": "display_data"
    }
   ],
   "source": [
    "data['log_months_as_member'] = np.log(data['months_as_member'])\n",
    "sns.histplot(x='log_months_as_member', data=data)\n",
    "plt.title('Distribution of Months as Member (Log transformed)')\n",
    "plt.xlabel('Months as Member (Log)')\n",
    "plt.show()"
   ]
  },
  {
   "cell_type": "markdown",
   "id": "f6a8ca03",
   "metadata": {},
   "source": [
    "#### Applying a log transformation, the distribution of months as member appears to follow a normal distribution"
   ]
  },
  {
   "cell_type": "markdown",
   "id": "4cca8541",
   "metadata": {},
   "source": [
    "## 2.3 What does the distribution of months as members look like for individuals who attended the class and those who didn't"
   ]
  },
  {
   "cell_type": "code",
   "execution_count": 119,
   "id": "cdb73efb",
   "metadata": {},
   "outputs": [
    {
     "data": {
      "image/png": "[encoded data removed]",
      "text/plain": [
       "<Figure size 640x480 with 1 Axes>"
      ]
     },
     "metadata": {},
     "output_type": "display_data"
    }
   ],
   "source": [
    "sns.boxplot(x='attended', y='months_as_member', data=data)\n",
    "plt.xlabel('Attended')\n",
    "plt.ylabel('Months as Member')\n",
    "plt.title('Distribution of months as member against attendance')\n",
    "plt.show()"
   ]
  },
  {
   "cell_type": "markdown",
   "id": "187477de",
   "metadata": {},
   "source": [
    "#### Again, the distribution of months as members is highly skewed and the distribution is difficult to interpret..."
   ]
  },
  {
   "cell_type": "code",
   "execution_count": 120,
   "id": "12d88406",
   "metadata": {},
   "outputs": [
    {
     "data": {
      "image/png": "[encoded data removed]",
      "text/plain": [
       "<Figure size 640x480 with 1 Axes>"
      ]
     },
     "metadata": {},
     "output_type": "display_data"
    }
   ],
   "source": [
    "sns.boxplot(x='attended', y='log_months_as_member', data=data)\n",
    "plt.xlabel('Attended')\n",
    "plt.ylabel('Months as Member (Log)')\n",
    "plt.title('Distribution of months as member against attendance (Log transformed)')\n",
    "plt.show()"
   ]
  },
  {
   "cell_type": "markdown",
   "id": "2a61c9dc",
   "metadata": {},
   "source": [
    "#### Applying a log transformation we can see that in general individuals that have been members for longer are more likely to attend the class the booked."
   ]
  },
  {
   "cell_type": "markdown",
   "id": "0e46f503",
   "metadata": {},
   "source": [
    "# 3. Machine Learning"
   ]
  },
  {
   "cell_type": "code",
   "execution_count": 121,
   "id": "a9580b6e",
   "metadata": {},
   "outputs": [
    {
     "data": {
      "text/html": [
       "<div>\n",
       "<style scoped>\n",
       "    .dataframe tbody tr th:only-of-type {\n",
       "        vertical-align: middle;\n",
       "    }\n",
       "\n",
       "    .dataframe tbody tr th {\n",
       "        vertical-align: top;\n",
       "    }\n",
       "\n",
       "    .dataframe thead th {\n",
       "        text-align: right;\n",
       "    }\n",
       "</style>\n",
       "<table border=\"1\" class=\"dataframe\">\n",
       "  <thead>\n",
       "    <tr style=\"text-align: right;\">\n",
       "      <th></th>\n",
       "      <th>booking_id</th>\n",
       "      <th>months_as_member</th>\n",
       "      <th>weight</th>\n",
       "      <th>days_before</th>\n",
       "      <th>day_of_week</th>\n",
       "      <th>time</th>\n",
       "      <th>category</th>\n",
       "      <th>attended</th>\n",
       "      <th>log_months_as_member</th>\n",
       "    </tr>\n",
       "  </thead>\n",
       "  <tbody>\n",
       "    <tr>\n",
       "      <th>0</th>\n",
       "      <td>1</td>\n",
       "      <td>17</td>\n",
       "      <td>79.56</td>\n",
       "      <td>8</td>\n",
       "      <td>Wed</td>\n",
       "      <td>PM</td>\n",
       "      <td>Strength</td>\n",
       "      <td>0</td>\n",
       "      <td>2.833213</td>\n",
       "    </tr>\n",
       "    <tr>\n",
       "      <th>1</th>\n",
       "      <td>2</td>\n",
       "      <td>10</td>\n",
       "      <td>79.01</td>\n",
       "      <td>2</td>\n",
       "      <td>Mon</td>\n",
       "      <td>AM</td>\n",
       "      <td>HIIT</td>\n",
       "      <td>0</td>\n",
       "      <td>2.302585</td>\n",
       "    </tr>\n",
       "    <tr>\n",
       "      <th>2</th>\n",
       "      <td>3</td>\n",
       "      <td>16</td>\n",
       "      <td>74.53</td>\n",
       "      <td>14</td>\n",
       "      <td>Sun</td>\n",
       "      <td>AM</td>\n",
       "      <td>Strength</td>\n",
       "      <td>0</td>\n",
       "      <td>2.772589</td>\n",
       "    </tr>\n",
       "    <tr>\n",
       "      <th>3</th>\n",
       "      <td>4</td>\n",
       "      <td>5</td>\n",
       "      <td>86.12</td>\n",
       "      <td>10</td>\n",
       "      <td>Fri</td>\n",
       "      <td>AM</td>\n",
       "      <td>Cycling</td>\n",
       "      <td>0</td>\n",
       "      <td>1.609438</td>\n",
       "    </tr>\n",
       "    <tr>\n",
       "      <th>4</th>\n",
       "      <td>5</td>\n",
       "      <td>15</td>\n",
       "      <td>69.29</td>\n",
       "      <td>8</td>\n",
       "      <td>Thu</td>\n",
       "      <td>AM</td>\n",
       "      <td>HIIT</td>\n",
       "      <td>0</td>\n",
       "      <td>2.708050</td>\n",
       "    </tr>\n",
       "  </tbody>\n",
       "</table>\n",
       "</div>"
      ],
      "text/plain": [
       "   booking_id  months_as_member  weight  days_before day_of_week time  \\\n",
       "0           1                17   79.56            8         Wed   PM   \n",
       "1           2                10   79.01            2         Mon   AM   \n",
       "2           3                16   74.53           14         Sun   AM   \n",
       "3           4                 5   86.12           10         Fri   AM   \n",
       "4           5                15   69.29            8         Thu   AM   \n",
       "\n",
       "   category  attended  log_months_as_member  \n",
       "0  Strength         0              2.833213  \n",
       "1      HIIT         0              2.302585  \n",
       "2  Strength         0              2.772589  \n",
       "3   Cycling         0              1.609438  \n",
       "4      HIIT         0              2.708050  "
      ]
     },
     "execution_count": 121,
     "metadata": {},
     "output_type": "execute_result"
    }
   ],
   "source": [
    "data.head()"
   ]
  },
  {
   "cell_type": "markdown",
   "id": "f3267dcf",
   "metadata": {},
   "source": [
    "## 3.1 KNeighborsClassifier model"
   ]
  },
  {
   "cell_type": "code",
   "execution_count": 122,
   "id": "32c9fc7a",
   "metadata": {},
   "outputs": [],
   "source": [
    "from sklearn.neighbors import KNeighborsClassifier\n",
    "from sklearn.model_selection import train_test_split\n",
    "from sklearn.metrics import accuracy_score\n",
    "from sklearn.preprocessing import StandardScaler\n",
    "\n",
    "# Convert categorical columns to numerical\n",
    "data['day_of_week'] = data['day_of_week'].astype('category')\n",
    "data['time'] = data['time'].astype('category')\n",
    "data['category'] = data['category'].astype('category')\n",
    "data = pd.get_dummies(data)\n",
    "\n",
    "\n",
    "# Seperate the feature and target variables\n",
    "X = data.drop(['booking_id', 'log_months_as_member', 'attended'], axis=1)\n",
    "y = data['attended']\n",
    "\n",
    "# Split the data\n",
    "X_train, X_test, y_train, y_test = train_test_split(X, y, test_size=0.3, random_state=1, stratify=y)\n",
    "\n",
    "# Standardize the feature variables\n",
    "scaler = StandardScaler()\n",
    "X_train_scaled = scaler.fit_transform(X_train)\n",
    "X_test_scaled  =scaler.transform(X_test)"
   ]
  },
  {
   "cell_type": "code",
   "execution_count": 123,
   "id": "e6df79e4",
   "metadata": {},
   "outputs": [
    {
     "name": "stdout",
     "output_type": "stream",
     "text": [
      "0.7244444444444444\n"
     ]
    }
   ],
   "source": [
    "# Create and fit the model\n",
    "knn = KNeighborsClassifier(n_neighbors=5)\n",
    "knn.fit(X_train_scaled, y_train)\n",
    "y_pred_knn = knn.predict(X_test_scaled)\n",
    "\n",
    "print(accuracy_score(y_test, y_pred_knn))\n"
   ]
  },
  {
   "cell_type": "markdown",
   "id": "0dff5f00",
   "metadata": {},
   "source": [
    "#### After fitting our model on our training dataset, the model was able to accurately predict 72% of the target variables on the test set"
   ]
  },
  {
   "cell_type": "markdown",
   "id": "fc44fc29",
   "metadata": {},
   "source": [
    "## 3.2 Using cross validation to find the optimal n_neighbors"
   ]
  },
  {
   "cell_type": "markdown",
   "id": "5a23f1cd",
   "metadata": {},
   "source": [
    "#### The model above used an n_neighbor parameter of 5, we'll use cross validation to find the n_neighbor value that returns an optimal accuracy score"
   ]
  },
  {
   "cell_type": "code",
   "execution_count": 124,
   "id": "50c26b64",
   "metadata": {},
   "outputs": [
    {
     "name": "stdout",
     "output_type": "stream",
     "text": [
      "{1: 0.6828571428571429, 2: 0.720952380952381, 3: 0.700952380952381, 4: 0.7276190476190476, 5: 0.7161904761904762, 6: 0.7371428571428572, 7: 0.7352380952380952, 8: 0.7390476190476191, 9: 0.7342857142857143, 10: 0.741904761904762, 11: 0.740952380952381, 12: 0.7371428571428572, 13: 0.741904761904762, 14: 0.7314285714285715, 15: 0.7361904761904763, 16: 0.7333333333333334, 17: 0.7333333333333334, 18: 0.7285714285714286, 19: 0.7314285714285715, 20: 0.7238095238095237, 21: 0.7266666666666666, 22: 0.7257142857142858, 23: 0.7219047619047618, 24: 0.7247619047619048, 25: 0.7257142857142858}\n"
     ]
    }
   ],
   "source": [
    "from sklearn.model_selection import cross_val_score, KFold\n",
    "\n",
    "avg_accuracy = {}\n",
    "neighbors = np.arange(1, 26)\n",
    "\n",
    "# Create a K-Fold with 5 splits\n",
    "kf = KFold(n_splits = 5, shuffle=True, random_state=1)\n",
    "\n",
    "# Iterate over n_neighbor values, apply cross validation to the training set, and calculate the mean accuracy\n",
    "for neighbor in neighbors:\n",
    "    knn = KNeighborsClassifier(n_neighbors = neighbor)\n",
    "    accuracy = cross_val_score(knn, X_train_scaled, y_train, cv=kf)\n",
    "    avg_accuracy[neighbor] = np.mean(accuracy)\n",
    "    \n",
    "print(avg_accuracy)"
   ]
  },
  {
   "cell_type": "code",
   "execution_count": 125,
   "id": "4d1cbff0",
   "metadata": {},
   "outputs": [
    {
     "data": {
      "image/png": "[encoded data removed]",
      "text/plain": [
       "<Figure size 640x480 with 1 Axes>"
      ]
     },
     "metadata": {},
     "output_type": "display_data"
    }
   ],
   "source": [
    "# Plot the mean accuracy for each iteration of the cross validation\n",
    "sns.scatterplot(x=neighbors, y=avg_accuracy.values())\n",
    "plt.ylabel('Average accuracy Score')\n",
    "plt.xlabel('n_neighbors values')\n",
    "plt.show()"
   ]
  },
  {
   "cell_type": "markdown",
   "id": "036905a1",
   "metadata": {},
   "source": [
    "#### From this we can see that a n_neighbor value of either 10 or 13 is the optimal parameter value"
   ]
  },
  {
   "cell_type": "markdown",
   "id": "bf457b1c",
   "metadata": {},
   "source": [
    "## 3.3 Using Grid Search to confirm the optimal n_neighbors"
   ]
  },
  {
   "cell_type": "code",
   "execution_count": 126,
   "id": "a7cda019",
   "metadata": {},
   "outputs": [
    {
     "name": "stdout",
     "output_type": "stream",
     "text": [
      "{'n_neighbors': 10}\n",
      "0.741904761904762\n"
     ]
    }
   ],
   "source": [
    "from sklearn.model_selection import GridSearchCV\n",
    "\n",
    "knn2 = KNeighborsClassifier()\n",
    "param_grid = {'n_neighbors':np.arange(1, 26)}\n",
    "knn_GS = GridSearchCV(knn2, param_grid, cv=kf)\n",
    "knn_GS.fit(X_train_scaled, y_train)\n",
    "print(knn_GS.best_params_)\n",
    "print(knn_GS.best_score_)\n"
   ]
  },
  {
   "cell_type": "markdown",
   "id": "53041e9f",
   "metadata": {},
   "source": [
    "#### After more advanced hyperparameter tuning, we can see that the optimal n_neighbor parameter value is 10"
   ]
  },
  {
   "cell_type": "markdown",
   "id": "29c19647",
   "metadata": {},
   "source": [
    "## 3.4 Final Evaluation"
   ]
  },
  {
   "cell_type": "code",
   "execution_count": 127,
   "id": "e1cc117a",
   "metadata": {},
   "outputs": [
    {
     "name": "stdout",
     "output_type": "stream",
     "text": [
      "0.7377777777777778\n"
     ]
    }
   ],
   "source": [
    "# Now we apply the optimised paramter value to the model and predict the test set again\n",
    "knn = KNeighborsClassifier(n_neighbors = 10)\n",
    "knn.fit(X_train_scaled, y_train)\n",
    "y_pred_knn = knn.predict(X_test_scaled)\n",
    "print(accuracy_score(y_test, y_pred_knn))"
   ]
  },
  {
   "cell_type": "markdown",
   "id": "892850bc",
   "metadata": {},
   "source": [
    "#### We can see that the optimised model correctly predicted the test set with a 74% accuracy, 2% better than the previously un-optimized model of 72%"
   ]
  },
  {
   "cell_type": "markdown",
   "id": "036449d1",
   "metadata": {},
   "source": [
    "## 3.5 Decision tree classifier"
   ]
  },
  {
   "cell_type": "markdown",
   "id": "187bccd8",
   "metadata": {},
   "source": [
    "#### We'll compare our previous KNeighborsClassifier model to a DecisionTreeClassifier model to see which one might perform better"
   ]
  },
  {
   "cell_type": "code",
   "execution_count": 128,
   "id": "1277cb38",
   "metadata": {},
   "outputs": [
    {
     "name": "stdout",
     "output_type": "stream",
     "text": [
      "0.7466666666666667\n"
     ]
    }
   ],
   "source": [
    "from sklearn.tree import DecisionTreeClassifier\n",
    "\n",
    "dtc = DecisionTreeClassifier(max_depth=2, min_samples_leaf=0.1, random_state=1)\n",
    "dtc.fit(X_train_scaled, y_train)\n",
    "y_pred_dtc = dtc.predict(X_test_scaled)\n",
    "\n",
    "print(accuracy_score(y_pred_dtc, y_test))"
   ]
  },
  {
   "cell_type": "markdown",
   "id": "7369e490",
   "metadata": {},
   "source": [
    "#### Applying the default parameters we can see the model already performs slightly better, 75%, than the optimised KNeighborsClassifier model, 74%"
   ]
  },
  {
   "cell_type": "code",
   "execution_count": 129,
   "id": "08963451",
   "metadata": {},
   "outputs": [
    {
     "name": "stdout",
     "output_type": "stream",
     "text": [
      "{'max_depth': 3, 'min_samples_leaf': 0.1}\n",
      "0.7819047619047618\n"
     ]
    }
   ],
   "source": [
    "# We'll optimise over every iteration of the 'max_depth' and 'min_samples_leaf' parameters\n",
    "params = {'max_depth' : np.arange(1, 11), 'min_samples_leaf' : (np.arange(1, 11)/10)}\n",
    "\n",
    "dtc2 = DecisionTreeClassifier()\n",
    "dtc_GS = GridSearchCV(dtc2, params, cv=kf)\n",
    "dtc_GS.fit(X_train_scaled, y_train)\n",
    "print(dtc_GS.best_params_)\n",
    "print(dtc_GS.best_score_)"
   ]
  },
  {
   "cell_type": "markdown",
   "id": "15eeeb3e",
   "metadata": {},
   "source": [
    "#### The optimised paramteres for 'max_depth' and 'min_samples_leaf' are 3 and 0.1 respectively "
   ]
  },
  {
   "cell_type": "code",
   "execution_count": 130,
   "id": "f8cedcd3",
   "metadata": {},
   "outputs": [
    {
     "name": "stdout",
     "output_type": "stream",
     "text": [
      "0.7733333333333333\n"
     ]
    }
   ],
   "source": [
    "dtc = DecisionTreeClassifier(max_depth=3, min_samples_leaf=0.1, random_state=1)\n",
    "dtc.fit(X_train_scaled, y_train)\n",
    "y_pred_dtc = dtc.predict(X_test_scaled)\n",
    "\n",
    "print(accuracy_score(y_pred_dtc, y_test))"
   ]
  },
  {
   "cell_type": "markdown",
   "id": "6b26bf5c",
   "metadata": {},
   "source": [
    "#### The optimised DecisionTreeClassifier performs much better, having an accuracy of 78%, than the optimised KNeighborsClassifier model at just 74%"
   ]
  }
 ],
 "metadata": {
  "kernelspec": {
   "display_name": "Python 3 (ipykernel)",
   "language": "python",
   "name": "python3"
  },
  "language_info": {
   "codemirror_mode": {
    "name": "ipython",
    "version": 3
   },
   "file_extension": ".py",
   "mimetype": "text/x-python",
   "name": "python",
   "nbconvert_exporter": "python",
   "pygments_lexer": "ipython3",
   "version": "3.10.9"
  }
 },
 "nbformat": 4,
 "nbformat_minor": 5
}
